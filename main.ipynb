{
 "cells": [
  {
   "cell_type": "code",
   "execution_count": 2,
   "metadata": {},
   "outputs": [],
   "source": [
    "import pandas as pd\n",
    "import matplotlib.pyplot as plt\n",
    "\n",
    "df = pd.read_csv('../data/raw/A202001.csv', delimiter= ';',  nrows=1000)"
   ]
  },
  {
   "cell_type": "code",
   "execution_count": 5,
   "metadata": {
    "collapsed": false,
    "pycharm": {
     "name": "#%%\n"
    }
   },
   "outputs": [
    {
     "data": {
      "text/plain": [
       "PSE_SPE_SNDS\n",
       "0     251024.29\n",
       "1       7901.27\n",
       "35      3166.60\n",
       "4       3067.53\n",
       "15      2226.25\n",
       "36      1620.45\n",
       "6       1333.00\n",
       "37      1251.46\n",
       "33      1241.82\n",
       "2       1100.25\n",
       "Name: PRS_PAI_MNT, dtype: float64"
      ]
     },
     "execution_count": 5,
     "metadata": {},
     "output_type": "execute_result"
    }
   ],
   "source": [
    "x = df.groupby(by=['PSE_SPE_SNDS'])['PRS_PAI_MNT'].sum().sort_values(ascending=False)\n",
    "\n",
    "x.head(10)\n",
    "\n",
    "#plt.bar(x, any)"
   ]
  },
  {
   "cell_type": "code",
   "execution_count": 25,
   "metadata": {},
   "outputs": [
    {
     "data": {
      "text/plain": [
       "PSE_SPE_SNDS\n",
       "0     251024.29\n",
       "1       7901.27\n",
       "35      3166.60\n",
       "4       3067.53\n",
       "15      2226.25\n",
       "Name: PRS_PAI_MNT, dtype: float64"
      ]
     },
     "execution_count": 25,
     "metadata": {},
     "output_type": "execute_result"
    }
   ],
   "source": [
    "x.head(5)\n",
    "\n"
   ]
  },
  {
   "cell_type": "code",
   "execution_count": 24,
   "metadata": {},
   "outputs": [
    {
     "data": {
      "text/plain": [
       "<BarContainer object of 1000 artists>"
      ]
     },
     "execution_count": 24,
     "metadata": {},
     "output_type": "execute_result"
    },
    {
     "data": {
      "image/png": "[encoded data removed]",
      "text/plain": [
       "<Figure size 432x288 with 1 Axes>"
      ]
     },
     "metadata": {
      "needs_background": "light"
     },
     "output_type": "display_data"
    }
   ],
   "source": [
    "depassement = df['PRS_DEP_MNT'].sort_values(ascending=False)\n",
    "\n",
    "plt.bar(df['BEN_SEX_COD'], depassement)\n",
    "#1 = hommes\n",
    "#2 = femmes"
   ]
  },
  {
   "cell_type": "code",
   "execution_count": 23,
   "metadata": {},
   "outputs": [
    {
     "data": {
      "text/plain": [
       "<matplotlib.collections.PathCollection at 0x1ae834cac10>"
      ]
     },
     "execution_count": 23,
     "metadata": {},
     "output_type": "execute_result"
    },
    {
     "data": {
      "image/png": "[encoded data removed]",
      "text/plain": [
       "<Figure size 432x288 with 1 Axes>"
      ]
     },
     "metadata": {
      "needs_background": "light"
     },
     "output_type": "display_data"
    }
   ],
   "source": [
    "plt.scatter(df['AGE_BEN_SNDS'], depassement)"
   ]
  }
 ],
 "metadata": {
  "interpreter": {
   "hash": "d78c9ced15067f1eecd31917ba774b1b09b9e74de05a37ba122b2544f67798e5"
  },
  "kernelspec": {
   "display_name": "Python 3.8.12 ('Hesias')",
   "language": "python",
   "name": "python3"
  },
  "language_info": {
   "codemirror_mode": {
    "name": "ipython",
    "version": 3
   },
   "file_extension": ".py",
   "mimetype": "text/x-python",
   "name": "python",
   "nbconvert_exporter": "python",
   "pygments_lexer": "ipython3",
   "version": "3.8.12"
  },
  "orig_nbformat": 4
 },
 "nbformat": 4,
 "nbformat_minor": 2
}
